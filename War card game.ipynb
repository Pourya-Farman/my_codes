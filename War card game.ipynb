{
 "cells": [
  {
   "cell_type": "code",
   "execution_count": 1,
   "id": "2b0efc70",
   "metadata": {},
   "outputs": [],
   "source": [
    "class Std_52_Card_Deck:\n",
    "    \n",
    "    def __init__(self, ranks, sets):\n",
    "        self.ranks=ranks\n",
    "        self.sets=sets\n",
    "    \n",
    "    "
   ]
  },
  {
   "cell_type": "code",
   "execution_count": 38,
   "id": "8925ecb0",
   "metadata": {},
   "outputs": [
    {
     "ename": "SyntaxError",
     "evalue": "invalid syntax (<ipython-input-38-b4263f2a9e95>, line 1)",
     "output_type": "error",
     "traceback": [
      "\u001b[1;36m  File \u001b[1;32m\"<ipython-input-38-b4263f2a9e95>\"\u001b[1;36m, line \u001b[1;32m1\u001b[0m\n\u001b[1;33m    clubs_set= Std_52_Card_Deck(['ACE':1, 2, 3, 4, 5, 6, 7, 8, 9, 10, 'Jack':11,'Queen':12, 'King':13],'spade')\u001b[0m\n\u001b[1;37m                                      ^\u001b[0m\n\u001b[1;31mSyntaxError\u001b[0m\u001b[1;31m:\u001b[0m invalid syntax\n"
     ]
    }
   ],
   "source": [
    "clubs_set= Std_52_Card_Deck(['ACE':1, 2, 3, 4, 5, 6, 7, 8, 9, 10, 'Jack':11,'Queen':12, 'King':13],'spade')"
   ]
  },
  {
   "cell_type": "code",
   "execution_count": null,
   "id": "0186b510",
   "metadata": {},
   "outputs": [],
   "source": []
  },
  {
   "cell_type": "code",
   "execution_count": 37,
   "id": "cad7305a",
   "metadata": {},
   "outputs": [
    {
     "data": {
      "text/plain": [
       "['ACE', 2, 3, 4, 5, 6, 7, 8, 9, 10, 'Jack', 'Queen', 'King']"
      ]
     },
     "execution_count": 37,
     "metadata": {},
     "output_type": "execute_result"
    }
   ],
   "source": [
    "clubs_set.ranks"
   ]
  },
  {
   "cell_type": "code",
   "execution_count": 16,
   "id": "eafb8ebd",
   "metadata": {},
   "outputs": [
    {
     "data": {
      "text/plain": [
       "'spade'"
      ]
     },
     "execution_count": 16,
     "metadata": {},
     "output_type": "execute_result"
    }
   ],
   "source": [
    "clubs_set.sets"
   ]
  },
  {
   "cell_type": "code",
   "execution_count": 15,
   "id": "6efa68d6",
   "metadata": {},
   "outputs": [
    {
     "name": "stdout",
     "output_type": "stream",
     "text": [
      "range(2, 10)\n"
     ]
    }
   ],
   "source": [
    "print (range(2,10))"
   ]
  },
  {
   "cell_type": "code",
   "execution_count": null,
   "id": "e3420201",
   "metadata": {},
   "outputs": [],
   "source": []
  }
 ],
 "metadata": {
  "kernelspec": {
   "display_name": "Python 3",
   "language": "python",
   "name": "python3"
  },
  "language_info": {
   "codemirror_mode": {
    "name": "ipython",
    "version": 3
   },
   "file_extension": ".py",
   "mimetype": "text/x-python",
   "name": "python",
   "nbconvert_exporter": "python",
   "pygments_lexer": "ipython3",
   "version": "3.8.8"
  }
 },
 "nbformat": 4,
 "nbformat_minor": 5
}
